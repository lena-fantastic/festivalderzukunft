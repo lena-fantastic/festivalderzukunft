{
 "cells": [
  {
   "cell_type": "markdown",
   "metadata": {},
   "source": [
    "<font size = 6em color = \"stealblue\"> **Fallbeispiel \"Play Tennis\"** 🎾 </font><font size = 4em>| Klassifikation mit \"Decision Tree\"</font>\n",
    "********\n",
    "Im Fallbeispiel geht es um eine Klassifikation. Anhand von Wetterdaten soll vorhergesagt werden, ob an einem bestimmten Tag, an dem die relevanten Wetterbedingungen bekannt sind, Tennis gespielt oder nicht Tennis gespielt wird. Die Wetterdaten sind die Feautures bzw. Input-Merkmale und das Ziel-Merkmal bzw. Target die Entscheidung, ob Tennis gespielt oder nicht gespielt wird. Das Target ist somit binär. Die Input-Merkmale sind allesamt kategorial. \n",
    "********"
   ]
  },
  {
   "cell_type": "markdown",
   "metadata": {},
   "source": [
    "# Data Understanding"
   ]
  },
  {
   "cell_type": "markdown",
   "metadata": {},
   "source": [
    "## Einlesen der Daten aus einer Excel-Datei"
   ]
  },
  {
   "cell_type": "code",
   "execution_count": 8,
   "metadata": {},
   "outputs": [],
   "source": [
    "import pandas as pd\n",
    "from pandas import ExcelFile \n",
    "import numpy as np\n",
    "import matplotlib.pyplot as mpl"
   ]
  },
  {
   "cell_type": "markdown",
   "metadata": {},
   "source": [
    "*Aufgabe*: Lesen Sie den Datenbestand als csv ein: \n",
    "- in \"data_train\": trainingsdaten_playtennis.csv\n",
    "- in \"data_test\": testdaten_playtennis.csv\n",
    "\n",
    "Zum Laden von Daten besitzt pandas für jedes Format eine eigene Funktion. Diese sind alle unter dem folgenden dokumentiert: https://pandas.pydata.org/pandas-docs/stable/user_guide/io.html\n",
    "\n",
    "Außerdem gibt es ein allgemeines Tutorial zum Laden von Daten, aus dem man auch etwas Code kopieren und ausprobieren kann: https://pandas.pydata.org/pandas-docs/stable/getting_started/intro_tutorials/02_read_write.html\n"
   ]
  },
  {
   "cell_type": "code",
   "execution_count": null,
   "metadata": {},
   "outputs": [],
   "source": []
  },
  {
   "cell_type": "markdown",
   "metadata": {},
   "source": [
    "*Aufgabe*: Geben Sie die ersten 10 Zeilen des Trainingsdatensatzes aus.\n"
   ]
  },
  {
   "cell_type": "code",
   "execution_count": null,
   "metadata": {},
   "outputs": [],
   "source": []
  },
  {
   "cell_type": "markdown",
   "metadata": {},
   "source": [
    "## Entfernen von irrelevanten Spalten"
   ]
  },
  {
   "cell_type": "markdown",
   "metadata": {},
   "source": [
    "*Aufgabe*: Entfernen Sie dafür die Spalte \"Day\". \n",
    "Die Spalte dient im Datensatz als ID (\"Identifier\") und hat daher keinen analytischen Nutzen."
   ]
  },
  {
   "cell_type": "code",
   "execution_count": 2,
   "metadata": {},
   "outputs": [],
   "source": []
  },
  {
   "cell_type": "markdown",
   "metadata": {},
   "source": [
    "## Erste Inspektion des Dataframe"
   ]
  },
  {
   "cell_type": "code",
   "execution_count": 3,
   "metadata": {},
   "outputs": [
    {
     "data": {
      "text/plain": [
       "(14, 5)"
      ]
     },
     "execution_count": 3,
     "metadata": {},
     "output_type": "execute_result"
    }
   ],
   "source": [
    "data_train.shape # gibt die Anzahl der Zeilen/ Instanzen (14) und Merkmale (5) aus. \"Day\" wurde ja entfernt"
   ]
  },
  {
   "cell_type": "code",
   "execution_count": 4,
   "metadata": {},
   "outputs": [
    {
     "name": "stdout",
     "output_type": "stream",
     "text": [
      "<class 'pandas.core.frame.DataFrame'>\n",
      "RangeIndex: 14 entries, 0 to 13\n",
      "Data columns (total 5 columns):\n",
      " #   Column       Non-Null Count  Dtype \n",
      "---  ------       --------------  ----- \n",
      " 0   Outlook      14 non-null     object\n",
      " 1   Temperature  14 non-null     object\n",
      " 2   Humidity     14 non-null     object\n",
      " 3   Wind         14 non-null     object\n",
      " 4   PlayTennis   14 non-null     object\n",
      "dtypes: object(5)\n",
      "memory usage: 344.0+ bytes\n"
     ]
    }
   ],
   "source": [
    "# gibt die Datentypen aus. Es gibt keine metrisch skalierten Merkmale im Trainingsdatenbestand\n",
    "# es gibt keine missing values\n",
    "data_train.info() "
   ]
  },
  {
   "cell_type": "markdown",
   "metadata": {},
   "source": [
    "# Data Preperation & Modelling (Decision tree)"
   ]
  },
  {
   "cell_type": "markdown",
   "metadata": {},
   "source": [
    "## Aufteilen in Features und Target\n",
    "Für die Klassifikation ist es nötig, die im Datenbestand enthaltenen Merkmale nach Features (Input-Merkmale) und Target (Zielvariable/Output) zu trennen. \n",
    "Sklearn erhält beim Training eines Estimators normalerweise immer 2 Eingaben: Den Zielwert sowie die gesammelten Merkmale, beide in der gleichen Sortierung.\n",
    "Also müssen wir unsere Daten trennen und dann in die Variablen X (Merkmale) sowie y (Zielwert) speichern."
   ]
  },
  {
   "cell_type": "markdown",
   "metadata": {},
   "source": [
    "*Aufgabe*: Teilen Sie die Trainingsdaten in \n",
    "- x_train mit den Input-Merkmalen\n",
    "- y_train mit der Zielvariable"
   ]
  },
  {
   "cell_type": "code",
   "execution_count": null,
   "metadata": {},
   "outputs": [],
   "source": []
  },
  {
   "cell_type": "markdown",
   "metadata": {},
   "source": [
    "*Aufgabe*: Wiederholen Sie dasselbe mit den Testdaten.\n",
    "Hinweis: Bevor Sie aber die Testdaten splitten, speichern sie die Testdatei (für das Testen später) nochmal als \"data_test_orig\" ab."
   ]
  },
  {
   "cell_type": "code",
   "execution_count": null,
   "metadata": {},
   "outputs": [],
   "source": []
  },
  {
   "cell_type": "markdown",
   "metadata": {},
   "source": [
    "## Transformation der nominalen bzw. kategorialen Variablen\n"
   ]
  },
  {
   "cell_type": "markdown",
   "metadata": {},
   "source": [
    "Für die Erstellung des Entscheidungsbaums müssen die nominalen bzw. kategorialen Variablen transformiert werden. \n",
    "D.h. die Merkmale werden in (Ganz-)Zahlen umgewandelt.\n",
    "Dafür gibt es zwei Möglichkeiten: Recodierung und One Hot Encoding.\n",
    "Im Folgenden werden wir beide Möglichkeien ausprobieren und euch die Vor- und Nachteile der jeweiligen Möglichkeiten euch näher bringen.\n",
    "\n",
    "Einen guten Überblick bietet das \"Getting Started\"-Tutorial zu scikit-learn: https://scikit-learn.org/stable/getting_started.html\n"
   ]
  },
  {
   "cell_type": "markdown",
   "metadata": {},
   "source": [
    "### 1. Möglichkeit: Recodierung"
   ]
  },
  {
   "cell_type": "markdown",
   "metadata": {},
   "source": [
    "Recodierung ist die Umcodierung von nominal skaliererten Merkmalen in willkürliche Zahlen. \n",
    "Beispiel: \n",
    "Nehmen wir das Merkmal \"Outlook\" mit den drei Ausprägungen \"overcast\", \"sunny\" und \"rain\". \n",
    "Wenn wir diese Ausprägungen umcodieren, so würde z.B. \"overcast\" mit einer 2 ersetzt werden, \"sunny\" mit einer 2 und \"rain\" mit einer 5. \n",
    "\n",
    "D.h. den Ausprägungen wird eine zufällige Zahl zugeordnet ohne diesen eine Bedeutung zuzuordnen. \n",
    "\n",
    "Deshalb ist es hier wichtig zu beachten, dass der im Anschluss angewendete Lernalgorithmus die (numerisch) transformierten Werte nicht für Berechnungen (wie z.B. Berechnung von metrischen Abständen) nutzt. \n",
    "Ansonsten kann es, dadurch das es willkürlich gewählte Zahlen sind, welche keine nähere Bedeutung wie z.B. eine Rangfolge haben, zu Verzerrungen in den Ergebnissen kommen. \n",
    "\n",
    "Für den Entscheidungsbaum verwenden wir hier einen ID3-Algorithmus, welcher nur die Häufigkeiten der Merkmalsausprägungen verwendet und dadurch wäre eine Transformation in beliebige Zahlen unkritisch. "
   ]
  },
  {
   "cell_type": "markdown",
   "metadata": {},
   "source": [
    "*Aufgabe*: Führen Sie eine Recodierung der Spalten \"Outlook\",\"Wind\",\"Temperature\",\"Humidity\" mit der Funktion `LabelEncoder()` aus dem Package scikit-learn durch."
   ]
  },
  {
   "cell_type": "code",
   "execution_count": null,
   "metadata": {},
   "outputs": [],
   "source": [
    "from sklearn.preprocessing import LabelEncoder\n"
   ]
  },
  {
   "cell_type": "markdown",
   "metadata": {},
   "source": [
    "### 2. Möglichkeit: One Hot Encoding"
   ]
  },
  {
   "cell_type": "markdown",
   "metadata": {},
   "source": [
    "Beim One Hot Encoding wird für jede Ausprägung eines Merkmals eine extra Spalte (neues Merkmal) gebildet. \n",
    "Zum Beispiel beim Merkmal \"Outlook\" mit den Ausprägungen \"overcast\", \"sunny\" und \"rain\" werden folgende neue Spalten gebildet: \n",
    "- \"outlook_overcast\", \"outlook_sunny\" und \"outlook_rain\"\n",
    "- das bisherige Merkmal \"Outlook\" wird dafür entfernt\n",
    "- mit 0 und 1 wird dann kenntlich gemacht, welches der drei neuen Merkmale (ehemals Ausprägungen eines Merkmals) bei einer Instanz zutreffen. "
   ]
  },
  {
   "cell_type": "markdown",
   "metadata": {},
   "source": [
    "*Aufgabe*: Führen Sie eine Transformation mittels One Hot Encoding durch. Nutzen sie dafür den Befehl \"get_dummies\" aus dem Python-Package pandas."
   ]
  },
  {
   "cell_type": "code",
   "execution_count": null,
   "metadata": {},
   "outputs": [],
   "source": []
  },
  {
   "cell_type": "markdown",
   "metadata": {},
   "source": [
    "### Fazit"
   ]
  },
  {
   "cell_type": "markdown",
   "metadata": {},
   "source": [
    "One Hot Encoder ist in der Anwendung unproblematischer als die Recodierung, da keine Überprüfung des nachfolgenden Algorithmus hinsichtlich der fehlenden Variablenbedeutung statt finden muss. Jedoch ist zu berücksichtigen, dass durch die Transformation mittels One Hot Encoding die Performance bei der Durchführung des Programmiercodes negativ beeinflusst werden kann und die Unübersichtlichkeit des Datenbestandes aufgrund der dazugekommenen Merkmalsausprägungen steigt. \n",
    "\n",
    "Im Folgenden werden wir deshalb die \"einfache\" Recodierung nutzen, um die Anzahl der Spalten überschaubarer zu halten. \n",
    "One Hot Encoder bleibt und ist aber eine wichtige Basis-Transformation, weshalb wir hier die Funktionsweise und den dafür notwendigen Code beheandelt haben. "
   ]
  },
  {
   "cell_type": "markdown",
   "metadata": {},
   "source": [
    "## Umwandlung in numpy-Arrays\n",
    "Das Python-Package scikit-learn setzt für die Verarbeitung auf numpy-Arrays auf, aus dem diesem Grund werden die pandas-Dataframes in numpy-arrays konvertiert."
   ]
  },
  {
   "cell_type": "code",
   "execution_count": 7,
   "metadata": {},
   "outputs": [],
   "source": [
    "# Umwandlung in numpy-Arrays\n",
    "\n",
    "# Trainingsdaten als numpy-Array\n",
    "#train_recoded_num = data_train.apply(LabelEncoder().fit_transform).to_numpy() # recoded die nominalen Merkmale in Zahlen\n",
    "#x_train_recoded_num = np.array(train_recoded_num[:, :4]) # die ersten 4 Spalten inkl. aller Spalten werden aus der Matrix geschnitten\n",
    "#y_train_recoded_num = np.array(train_recoded_num[:, 4]) # schneidet aus der Matrixe die Spalte mit den Zielwerten (= Outcome,..) \n",
    "\n",
    "# Testdaten als numpy-Array\n",
    "#test_recoded_num = data_test.apply(LabelEncoder().fit_transform).to_numpy() # recoded die nominalen Merkmale in Zahlen\n",
    "#x_test_recoded_num = np.array(test_recoded_num[:, :4]) # die ersten 4 Spalten inkl. aller Spalten werden aus der Matrix geschnitten\n",
    "#y_test_recoded_num = np.array(test_recoded_num[:, 4]) # schneidet aus der Matrixe die Spalte mit den Zielwerten (= Outcome,..) \n",
    "\n",
    "# Bezeichner für Features\n",
    "#class_names = np.unique(y_train_recoded_num) # schreibt die Labels als array. Labels sind die Bezeichner der Klassenzugehörigkeit \n",
    "\n",
    "# Bezeichner für Labels wird auf \"no\" und \"yes\" umcodiert\n",
    "#class_names = np.where(class_names == 0, \"no\", \"yes\") # die Labels als Text, wichtig später für den Tree "
   ]
  },
  {
   "cell_type": "markdown",
   "metadata": {},
   "source": [
    "## Aufstellen des Modells  \n"
   ]
  },
  {
   "cell_type": "markdown",
   "metadata": {},
   "source": [
    "Wir möchten nun den decision tree erstellen, der eine Klassifikation durchführen kann. \n",
    "Wir verwenden dafür im Folgenden das weit verbreitete `scikit-learn` als spezialisiertes Python-Package für Aufgaben aus dem Data-Science-Umfeld. \n",
    "Für die Erstellung des Modells müssen wir uns auf einen Ansatz bzw. Kriterium festlegen, um die Knoten zu finden, bei denen sich die Entscheidung gabelt. \n",
    "Bei `scikit-learn` lässt sich einstellen, welches Kriterium als Diskriminanzmaß zu verwenden ist (z.B. Gini-Koeffizient, Entropie usw.) \n",
    "Wir nutzen im Folgenden als Kriterium für das Finden der Knoten die \"Entropie\". "
   ]
  },
  {
   "cell_type": "markdown",
   "metadata": {},
   "source": [
    "*Aufgabe*: Erstellen Sie eine Instanz des Modells und setzten Sie als Kriterium die \"Entropie\" und als maximale Tiefe des Baums \"3\". "
   ]
  },
  {
   "cell_type": "code",
   "execution_count": null,
   "metadata": {},
   "outputs": [],
   "source": [
    "from sklearn.tree import DecisionTreeClassifier\n"
   ]
  },
  {
   "cell_type": "markdown",
   "metadata": {},
   "source": [
    "*Aufgabe*: Fitten bzw. Trainieren Sie das Modell mit den Trainingsdaten"
   ]
  },
  {
   "cell_type": "code",
   "execution_count": null,
   "metadata": {},
   "outputs": [],
   "source": []
  },
  {
   "cell_type": "markdown",
   "metadata": {},
   "source": [
    "## Visualisierung als Decision Tree\n",
    "Für die Visualisierung des Entscheidungsbaums nutzen wir zunächst matplotlib. Eine weitere Visualisierungsmöglichkeit ist [Graphviz](https://www.graphviz.org/) - ein Werkzeug speziell für die Darstellung von Graphen. "
   ]
  },
  {
   "cell_type": "markdown",
   "metadata": {},
   "source": [
    "*Aufgabe*: Visualisieren Sie den Entscheidungsbaum über matplotlip:"
   ]
  },
  {
   "cell_type": "code",
   "execution_count": null,
   "metadata": {},
   "outputs": [],
   "source": [
    "from sklearn import tree\n",
    "fig, axes = mpl.subplots(nrows = 1,ncols = 1,figsize = (3,4), dpi=270)\n"
   ]
  },
  {
   "cell_type": "markdown",
   "metadata": {},
   "source": [
    "Der erste Knoten vom Entscheidungsbaum legt die Entscheidung nahe, Tennis zu spielen, wenn das Wetter bevölkt ist (\"overcast\" <= 0, durch die vorherige Recodierung wurde \"overcast\" mit \"0\" annotiert). "
   ]
  },
  {
   "cell_type": "markdown",
   "metadata": {},
   "source": [
    "## Interaktive Visualisierung (Optional)\n",
    "Mit wenig Code sind auch interaktive Diagramme möglich.\n",
    "Interaktive Diagramme sind nützlich, wenn die Wahl der Parameter  eine hohe Auswirkung auf das Ergebnis haben kann - wie etwa bei \"Decision Tree\".\n",
    "\n",
    "Für interaktive Charts muss das Python-Package `ipwidgets`installiert sein, welches Sie vorab via `conda install -c conda-forge ipywidgets` in der Anaconda-Console installieren müssen."
   ]
  },
  {
   "cell_type": "markdown",
   "metadata": {},
   "source": [
    "*Aufgabe*: Versuchen Sie eine interaktive Visualisierung mit dem Python-Package ipwidgets zu erstellen."
   ]
  },
  {
   "cell_type": "code",
   "execution_count": 2,
   "metadata": {},
   "outputs": [],
   "source": [
    "# Voraussetzung \"conda install -c conda-forge ipywidgets\" in der Anaconda Console ausgeführt\n",
    "\n",
    "from sklearn.tree import DecisionTreeClassifier, export_graphviz\n",
    "from sklearn import tree\n",
    "from IPython.display import SVG\n",
    "from graphviz import Source\n",
    "from IPython.display import display                               \n",
    "from ipywidgets import interactive"
   ]
  },
  {
   "cell_type": "markdown",
   "metadata": {},
   "source": [
    "**Exkurs:**\n",
    "Berechnen der Entropie - dadurch wird auch der Startknoten festgelegt, denn das Merkmal mit der höchsten Entropie bildet die Wurzel (\"root\") beim Entscheidungsbaum. Das Konstruktionsprinzip sieht vor, mit dem Merkmal zu beginnen, das die höchste Entropie aufweist, dann fortzusetzen mit dem nächsten Merkmal, bei dem die Entropie dann am höchsten ist usw.   "
   ]
  },
  {
   "cell_type": "markdown",
   "metadata": {},
   "source": [
    "**Exkurs:** Reihung der Features nach ihrem Beitrag zum Modell. Das Feature \"Outlook\" hat das größte Gewicht auf die Entscheidung, d.h. die Merkmalsausprägungen von \"Outlook\" wie \"overcast\", \"sunny\" und \"rain\" bedingen eine Entscheidung am stärksten."
   ]
  },
  {
   "cell_type": "markdown",
   "metadata": {},
   "source": [
    "## Testen des Modells"
   ]
  },
  {
   "cell_type": "markdown",
   "metadata": {},
   "source": [
    "Nachdem wir das Modell trainiert haben, testen wir das trainierte Modell! \n",
    "Die Labels der Testdaten sind bekannt, die Evaluation besteht aber darin, zunächst die Labels dem Classifier nicht zu \"verraten\" und das Modell so anzuwenden, als sei die Information nach der Klassenzugehörigkeit nicht bekannt."
   ]
  },
  {
   "cell_type": "markdown",
   "metadata": {},
   "source": [
    "*Aufgabe*: Testen Sie ihr trainiertes Modell. Verwenden Sie dazu am besten Datensatz \"x_test_recoded_num\".\n",
    "Gehen Sie dabei am besten wie folgt vor: \n",
    "1. Y-Variable (Output-Variable) mittels dem zuvor trainierten Modell für die Testdaten ermitteln\n",
    "2. Gegenüberstellung der vorhergesagten und den \"richtigen\" Werten (am besten in einer Tabelle)"
   ]
  },
  {
   "cell_type": "code",
   "execution_count": null,
   "metadata": {},
   "outputs": [],
   "source": []
  },
  {
   "cell_type": "markdown",
   "metadata": {},
   "source": [
    "# Evaluation "
   ]
  },
  {
   "cell_type": "markdown",
   "metadata": {},
   "source": [
    "## Confusion-Matrix\n",
    "Ein gängiges Verfahren zur Evaluation der Klassifikationsergebnisse ist das Aufstellen einer Confusion-Matrix als Grundlage für weiterführende Vergleiche auf Grundlage von Kennzahlen wie \"Recall\" oder \"Precision\".\n"
   ]
  },
  {
   "cell_type": "markdown",
   "metadata": {},
   "source": [
    "*Aufgabe*: Erstellen sie eine Convusion-Matrix. \n",
    "Hinweis: Dafür müssen sie zuerst die Häufigkeiten für die Confusion-Matrix bestimmen mit der Funktion \"metrics_confusion_matrix\". "
   ]
  },
  {
   "cell_type": "code",
   "execution_count": null,
   "metadata": {},
   "outputs": [],
   "source": [
    "from sklearn import metrics\n"
   ]
  },
  {
   "cell_type": "markdown",
   "metadata": {},
   "source": [
    "### Accuracy, Recall und Precision"
   ]
  },
  {
   "cell_type": "markdown",
   "metadata": {},
   "source": [
    "*Aufgabe*: Berechnen Sie aus der Confusion-Matrix noch die Kennzahlen zur Beurteilung der Modellgüte und interpretieren Sie die Ergebnisse: \n",
    "- Accuracy = (TP + TN) / N -> metrics.accuracy_score\n",
    "- Recall = TP / (TP + FN) -> metrics.precision_score\n",
    "- Precision = TP / (TP + FP) -> metrics.recall_score"
   ]
  },
  {
   "cell_type": "code",
   "execution_count": null,
   "metadata": {},
   "outputs": [],
   "source": []
  },
  {
   "cell_type": "markdown",
   "metadata": {},
   "source": [
    "## ROC-Kurve (Optional)\n",
    "Die ROC (Receiver Operating Characteristics) ist ein weiteres Kriterium zur Beurteilung der Modellgüte. Die ROC-Kurve ist eine Grafik, bei der die TP- der FP-Rate gegenübergestellt wird. Idealtypisch verliefe die Kurve bei einem perfekten Modell sofort bis zur 1 und ab dann waagrecht, die ROC-Area läge dann auch (idealtypisch) bei 1. Ein minderwertiges Modell entlarvt eine ROC-Kurve, wenn sie entlang oder gar unterhalb der 45°-Diagonalen verliefe. Beachten Sie, dass Raten auch eine Chance von 50:50 auf das richtige Ergebnis hätte. Ein Modell wird umso besser, je weiter es oberhalb der roten 45°-Diagonale verläuft. "
   ]
  },
  {
   "cell_type": "markdown",
   "metadata": {},
   "source": [
    "*Aufgabe*: Berechnen Sie zuerst für die ROC-Kurve die TP- und FP-Rate auf Grundlage der Confusion-Matrix."
   ]
  },
  {
   "cell_type": "code",
   "execution_count": null,
   "metadata": {},
   "outputs": [],
   "source": [
    "from sklearn.metrics import confusion_matrix\n"
   ]
  },
  {
   "cell_type": "markdown",
   "metadata": {},
   "source": [
    "*Aufgabe*: Erstellen Sie nun die ROC-Kurve"
   ]
  },
  {
   "cell_type": "code",
   "execution_count": null,
   "metadata": {},
   "outputs": [],
   "source": [
    "from sklearn.metrics import roc_curve, auc\n"
   ]
  }
 ],
 "metadata": {
  "kernelspec": {
   "display_name": "Python 3 (ipykernel)",
   "language": "python",
   "name": "python3"
  },
  "language_info": {
   "codemirror_mode": {
    "name": "ipython",
    "version": 3
   },
   "file_extension": ".py",
   "mimetype": "text/x-python",
   "name": "python",
   "nbconvert_exporter": "python",
   "pygments_lexer": "ipython3",
   "version": "3.9.13"
  },
  "toc": {
   "base_numbering": 1,
   "nav_menu": {},
   "number_sections": true,
   "sideBar": true,
   "skip_h1_title": false,
   "title_cell": "Table of Contents",
   "title_sidebar": "Inhalt \"Decision Tree\"",
   "toc_cell": false,
   "toc_position": {
    "height": "calc(100% - 180px)",
    "left": "10px",
    "top": "150px",
    "width": "337px"
   },
   "toc_section_display": true,
   "toc_window_display": true
  }
 },
 "nbformat": 4,
 "nbformat_minor": 4
}
